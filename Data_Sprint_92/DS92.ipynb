{
 "cells": [
  {
   "cell_type": "code",
   "execution_count": 1,
   "metadata": {},
   "outputs": [],
   "source": [
    "import numpy as np\n",
    "import pandas as pd\n",
    "import matplotlib.pyplot as plt"
   ]
  },
  {
   "cell_type": "code",
   "execution_count": 2,
   "metadata": {},
   "outputs": [
    {
     "data": {
      "text/html": [
       "<div>\n",
       "<style scoped>\n",
       "    .dataframe tbody tr th:only-of-type {\n",
       "        vertical-align: middle;\n",
       "    }\n",
       "\n",
       "    .dataframe tbody tr th {\n",
       "        vertical-align: top;\n",
       "    }\n",
       "\n",
       "    .dataframe thead th {\n",
       "        text-align: right;\n",
       "    }\n",
       "</style>\n",
       "<table border=\"1\" class=\"dataframe\">\n",
       "  <thead>\n",
       "    <tr style=\"text-align: right;\">\n",
       "      <th></th>\n",
       "      <th>fLength</th>\n",
       "      <th>fWidth</th>\n",
       "      <th>fSize</th>\n",
       "      <th>fConc</th>\n",
       "      <th>fConc1</th>\n",
       "      <th>fAsym</th>\n",
       "      <th>fM3Long</th>\n",
       "      <th>fM3Trans</th>\n",
       "      <th>fAlpha</th>\n",
       "      <th>fDist</th>\n",
       "      <th>class</th>\n",
       "    </tr>\n",
       "  </thead>\n",
       "  <tbody>\n",
       "    <tr>\n",
       "      <th>0</th>\n",
       "      <td>20.1426</td>\n",
       "      <td>9.9778</td>\n",
       "      <td>2.2695</td>\n",
       "      <td>0.6022</td>\n",
       "      <td>0.3898</td>\n",
       "      <td>-4.7403</td>\n",
       "      <td>15.5312</td>\n",
       "      <td>-9.5154</td>\n",
       "      <td>17.6460</td>\n",
       "      <td>56.5999</td>\n",
       "      <td>g</td>\n",
       "    </tr>\n",
       "    <tr>\n",
       "      <th>1</th>\n",
       "      <td>19.8300</td>\n",
       "      <td>7.3303</td>\n",
       "      <td>2.2541</td>\n",
       "      <td>0.7521</td>\n",
       "      <td>0.4095</td>\n",
       "      <td>2.8528</td>\n",
       "      <td>-9.7666</td>\n",
       "      <td>5.0346</td>\n",
       "      <td>13.7940</td>\n",
       "      <td>108.4640</td>\n",
       "      <td>g</td>\n",
       "    </tr>\n",
       "    <tr>\n",
       "      <th>2</th>\n",
       "      <td>163.3320</td>\n",
       "      <td>13.8819</td>\n",
       "      <td>2.9395</td>\n",
       "      <td>0.2540</td>\n",
       "      <td>0.1293</td>\n",
       "      <td>-131.0740</td>\n",
       "      <td>-75.0854</td>\n",
       "      <td>-8.5308</td>\n",
       "      <td>58.8365</td>\n",
       "      <td>118.2360</td>\n",
       "      <td>h</td>\n",
       "    </tr>\n",
       "    <tr>\n",
       "      <th>3</th>\n",
       "      <td>13.2942</td>\n",
       "      <td>10.6649</td>\n",
       "      <td>2.1804</td>\n",
       "      <td>0.7855</td>\n",
       "      <td>0.3927</td>\n",
       "      <td>-15.0000</td>\n",
       "      <td>-0.3975</td>\n",
       "      <td>11.9048</td>\n",
       "      <td>67.6577</td>\n",
       "      <td>118.3830</td>\n",
       "      <td>g</td>\n",
       "    </tr>\n",
       "    <tr>\n",
       "      <th>4</th>\n",
       "      <td>85.2934</td>\n",
       "      <td>38.3607</td>\n",
       "      <td>3.8050</td>\n",
       "      <td>0.1791</td>\n",
       "      <td>0.0972</td>\n",
       "      <td>-5.1982</td>\n",
       "      <td>72.7592</td>\n",
       "      <td>23.6211</td>\n",
       "      <td>3.1040</td>\n",
       "      <td>354.7870</td>\n",
       "      <td>g</td>\n",
       "    </tr>\n",
       "    <tr>\n",
       "      <th>...</th>\n",
       "      <td>...</td>\n",
       "      <td>...</td>\n",
       "      <td>...</td>\n",
       "      <td>...</td>\n",
       "      <td>...</td>\n",
       "      <td>...</td>\n",
       "      <td>...</td>\n",
       "      <td>...</td>\n",
       "      <td>...</td>\n",
       "      <td>...</td>\n",
       "      <td>...</td>\n",
       "    </tr>\n",
       "    <tr>\n",
       "      <th>4995</th>\n",
       "      <td>48.6388</td>\n",
       "      <td>9.0466</td>\n",
       "      <td>2.5849</td>\n",
       "      <td>0.4343</td>\n",
       "      <td>0.2432</td>\n",
       "      <td>6.8177</td>\n",
       "      <td>45.4794</td>\n",
       "      <td>-7.6617</td>\n",
       "      <td>0.2040</td>\n",
       "      <td>188.9570</td>\n",
       "      <td>g</td>\n",
       "    </tr>\n",
       "    <tr>\n",
       "      <th>4996</th>\n",
       "      <td>77.0229</td>\n",
       "      <td>25.0324</td>\n",
       "      <td>3.2476</td>\n",
       "      <td>0.2482</td>\n",
       "      <td>0.1496</td>\n",
       "      <td>-60.2780</td>\n",
       "      <td>51.9473</td>\n",
       "      <td>-14.5936</td>\n",
       "      <td>4.1493</td>\n",
       "      <td>270.5950</td>\n",
       "      <td>g</td>\n",
       "    </tr>\n",
       "    <tr>\n",
       "      <th>4997</th>\n",
       "      <td>71.3527</td>\n",
       "      <td>17.8546</td>\n",
       "      <td>3.0853</td>\n",
       "      <td>0.1749</td>\n",
       "      <td>0.0932</td>\n",
       "      <td>142.7684</td>\n",
       "      <td>-20.1101</td>\n",
       "      <td>-3.5355</td>\n",
       "      <td>16.6362</td>\n",
       "      <td>155.5068</td>\n",
       "      <td>h</td>\n",
       "    </tr>\n",
       "    <tr>\n",
       "      <th>4998</th>\n",
       "      <td>33.0857</td>\n",
       "      <td>19.4052</td>\n",
       "      <td>2.6264</td>\n",
       "      <td>0.4087</td>\n",
       "      <td>0.2226</td>\n",
       "      <td>-10.6070</td>\n",
       "      <td>-14.8030</td>\n",
       "      <td>-13.1350</td>\n",
       "      <td>19.2177</td>\n",
       "      <td>256.7284</td>\n",
       "      <td>h</td>\n",
       "    </tr>\n",
       "    <tr>\n",
       "      <th>4999</th>\n",
       "      <td>30.1651</td>\n",
       "      <td>16.4522</td>\n",
       "      <td>2.8901</td>\n",
       "      <td>0.3335</td>\n",
       "      <td>0.2041</td>\n",
       "      <td>2.6149</td>\n",
       "      <td>13.3085</td>\n",
       "      <td>10.4100</td>\n",
       "      <td>7.4430</td>\n",
       "      <td>168.6760</td>\n",
       "      <td>g</td>\n",
       "    </tr>\n",
       "  </tbody>\n",
       "</table>\n",
       "<p>5000 rows × 11 columns</p>\n",
       "</div>"
      ],
      "text/plain": [
       "       fLength   fWidth   fSize   fConc  fConc1     fAsym  fM3Long  fM3Trans  \\\n",
       "0      20.1426   9.9778  2.2695  0.6022  0.3898   -4.7403  15.5312   -9.5154   \n",
       "1      19.8300   7.3303  2.2541  0.7521  0.4095    2.8528  -9.7666    5.0346   \n",
       "2     163.3320  13.8819  2.9395  0.2540  0.1293 -131.0740 -75.0854   -8.5308   \n",
       "3      13.2942  10.6649  2.1804  0.7855  0.3927  -15.0000  -0.3975   11.9048   \n",
       "4      85.2934  38.3607  3.8050  0.1791  0.0972   -5.1982  72.7592   23.6211   \n",
       "...        ...      ...     ...     ...     ...       ...      ...       ...   \n",
       "4995   48.6388   9.0466  2.5849  0.4343  0.2432    6.8177  45.4794   -7.6617   \n",
       "4996   77.0229  25.0324  3.2476  0.2482  0.1496  -60.2780  51.9473  -14.5936   \n",
       "4997   71.3527  17.8546  3.0853  0.1749  0.0932  142.7684 -20.1101   -3.5355   \n",
       "4998   33.0857  19.4052  2.6264  0.4087  0.2226  -10.6070 -14.8030  -13.1350   \n",
       "4999   30.1651  16.4522  2.8901  0.3335  0.2041    2.6149  13.3085   10.4100   \n",
       "\n",
       "       fAlpha     fDist class  \n",
       "0     17.6460   56.5999     g  \n",
       "1     13.7940  108.4640     g  \n",
       "2     58.8365  118.2360     h  \n",
       "3     67.6577  118.3830     g  \n",
       "4      3.1040  354.7870     g  \n",
       "...       ...       ...   ...  \n",
       "4995   0.2040  188.9570     g  \n",
       "4996   4.1493  270.5950     g  \n",
       "4997  16.6362  155.5068     h  \n",
       "4998  19.2177  256.7284     h  \n",
       "4999   7.4430  168.6760     g  \n",
       "\n",
       "[5000 rows x 11 columns]"
      ]
     },
     "execution_count": 2,
     "metadata": {},
     "output_type": "execute_result"
    }
   ],
   "source": [
    "data = pd.read_csv('E:/ANUBHAV/VS Code/ML/Datasets/Data/DS 92/train.csv')\n",
    "data"
   ]
  },
  {
   "cell_type": "code",
   "execution_count": 3,
   "metadata": {},
   "outputs": [
    {
     "data": {
      "text/plain": [
       "(array([[ 20.1426,   9.9778,   2.2695, ...,  -9.5154,  17.646 ,  56.5999],\n",
       "        [ 19.83  ,   7.3303,   2.2541, ...,   5.0346,  13.794 , 108.464 ],\n",
       "        [163.332 ,  13.8819,   2.9395, ...,  -8.5308,  58.8365, 118.236 ],\n",
       "        ...,\n",
       "        [ 71.3527,  17.8546,   3.0853, ...,  -3.5355,  16.6362, 155.5068],\n",
       "        [ 33.0857,  19.4052,   2.6264, ..., -13.135 ,  19.2177, 256.7284],\n",
       "        [ 30.1651,  16.4522,   2.8901, ...,  10.41  ,   7.443 , 168.676 ]]),\n",
       " array(['g', 'g', 'h', ..., 'h', 'h', 'g'], dtype=object))"
      ]
     },
     "execution_count": 3,
     "metadata": {},
     "output_type": "execute_result"
    }
   ],
   "source": [
    "x = np.array(data.drop(['class'], axis=1))\n",
    "y = np.array(data['class'])\n",
    "x, y"
   ]
  },
  {
   "cell_type": "code",
   "execution_count": 4,
   "metadata": {},
   "outputs": [],
   "source": [
    "from sklearn.preprocessing import StandardScaler"
   ]
  },
  {
   "cell_type": "code",
   "execution_count": 5,
   "metadata": {},
   "outputs": [
    {
     "data": {
      "text/plain": [
       "array([[-0.76676058, -0.6637131 , -1.16324595, ..., -0.47976998,\n",
       "        -0.39116243, -1.85362899],\n",
       "       [-0.77405657, -0.80921526, -1.19578971, ...,  0.23112446,\n",
       "        -0.53822945, -1.1490465 ],\n",
       "       [ 2.57523716, -0.4491503 ,  0.2526186 , ..., -0.43166368,\n",
       "         1.18146579, -1.01629224],\n",
       "       ...,\n",
       "       [ 0.42846783, -0.23081737,  0.56072763, ..., -0.1875997 ,\n",
       "        -0.42971598, -0.50996218],\n",
       "       [-0.4646725 , -0.14559899, -0.40903393, ..., -0.65661902,\n",
       "        -0.33115588,  0.86515021],\n",
       "       [-0.53283843, -0.30789092,  0.148225  , ...,  0.49375964,\n",
       "        -0.78070676, -0.33105639]])"
      ]
     },
     "execution_count": 5,
     "metadata": {},
     "output_type": "execute_result"
    }
   ],
   "source": [
    "scale = StandardScaler()\n",
    "x = scale.fit_transform(x)\n",
    "x"
   ]
  },
  {
   "cell_type": "code",
   "execution_count": 6,
   "metadata": {},
   "outputs": [],
   "source": [
    "from collections import Counter"
   ]
  },
  {
   "cell_type": "code",
   "execution_count": 7,
   "metadata": {},
   "outputs": [
    {
     "data": {
      "text/plain": [
       "Counter({'g': 3222, 'h': 1778})"
      ]
     },
     "execution_count": 7,
     "metadata": {},
     "output_type": "execute_result"
    }
   ],
   "source": [
    "Counter(y)"
   ]
  },
  {
   "cell_type": "code",
   "execution_count": 8,
   "metadata": {},
   "outputs": [
    {
     "data": {
      "text/plain": [
       "array([0, 0, 1, ..., 1, 1, 0], dtype=object)"
      ]
     },
     "execution_count": 8,
     "metadata": {},
     "output_type": "execute_result"
    }
   ],
   "source": [
    "for i in range(len(y)):\n",
    "    if y[i] == 'g':\n",
    "        y[i] = 0\n",
    "    else:\n",
    "        y[i] = 1\n",
    "y"
   ]
  },
  {
   "cell_type": "code",
   "execution_count": 9,
   "metadata": {},
   "outputs": [],
   "source": [
    "from sklearn.model_selection import train_test_split"
   ]
  },
  {
   "cell_type": "code",
   "execution_count": 10,
   "metadata": {},
   "outputs": [],
   "source": [
    "y = y.astype('int')\n",
    "train_x, test_x, train_y, test_y = train_test_split(x, y, test_size=0.2)"
   ]
  },
  {
   "cell_type": "code",
   "execution_count": 11,
   "metadata": {},
   "outputs": [],
   "source": [
    "from sklearn.linear_model import LogisticRegression\n",
    "from sklearn.tree import DecisionTreeClassifier\n",
    "from sklearn.ensemble import RandomForestClassifier\n",
    "from sklearn.metrics import *"
   ]
  },
  {
   "cell_type": "code",
   "execution_count": 12,
   "metadata": {},
   "outputs": [
    {
     "name": "stdout",
     "output_type": "stream",
     "text": [
      "0.789\n",
      "[[574 162]\n",
      " [ 49 215]]\n"
     ]
    }
   ],
   "source": [
    "lr = LogisticRegression()\n",
    "lr.fit(train_x, train_y)\n",
    "ans = lr.predict(test_x)\n",
    "print(accuracy_score(ans, test_y))\n",
    "print(confusion_matrix(ans, test_y))"
   ]
  },
  {
   "cell_type": "code",
   "execution_count": 13,
   "metadata": {},
   "outputs": [
    {
     "name": "stdout",
     "output_type": "stream",
     "text": [
      "0.8\n",
      "[[531 108]\n",
      " [ 92 269]]\n"
     ]
    }
   ],
   "source": [
    "lr = DecisionTreeClassifier()\n",
    "lr.fit(train_x, train_y)\n",
    "ans = lr.predict(test_x)\n",
    "print(accuracy_score(ans, test_y))\n",
    "print(confusion_matrix(ans, test_y))"
   ]
  },
  {
   "cell_type": "code",
   "execution_count": 14,
   "metadata": {},
   "outputs": [
    {
     "name": "stdout",
     "output_type": "stream",
     "text": [
      "0.856\n",
      "[[588 109]\n",
      " [ 35 268]]\n"
     ]
    }
   ],
   "source": [
    "lr = RandomForestClassifier(n_estimators=250, criterion='entropy')\n",
    "lr.fit(train_x, train_y)\n",
    "ans = lr.predict(test_x)\n",
    "print(accuracy_score(ans, test_y))\n",
    "print(confusion_matrix(ans, test_y))"
   ]
  },
  {
   "cell_type": "code",
   "execution_count": 15,
   "metadata": {},
   "outputs": [
    {
     "data": {
      "text/plain": [
       "0.8654"
      ]
     },
     "execution_count": 15,
     "metadata": {},
     "output_type": "execute_result"
    }
   ],
   "source": [
    "from sklearn.model_selection import cross_val_score\n",
    "\n",
    "lr = RandomForestClassifier()\n",
    "acc = cross_val_score(lr, x, y, cv=5)\n",
    "acc.mean()"
   ]
  },
  {
   "cell_type": "markdown",
   "metadata": {},
   "source": [
    "Genetic Algorithms"
   ]
  },
  {
   "cell_type": "code",
   "execution_count": null,
   "metadata": {},
   "outputs": [],
   "source": [
    "from tpot import TPOTClassifier"
   ]
  },
  {
   "cell_type": "code",
   "execution_count": null,
   "metadata": {},
   "outputs": [],
   "source": [
    "params = {'n_estimators': np.arange(100, 1300, 100), 'criterion': ['gini', 'entropy'], 'max_features':\n",
    "         ['auto', 'sqrt', 'log2'], 'max_depth': np.arange(10, 480, 30), 'min_samples_split': np.arange(2, 22, 2)}\n",
    "\n",
    "params"
   ]
  },
  {
   "cell_type": "code",
   "execution_count": null,
   "metadata": {},
   "outputs": [],
   "source": [
    "clf = TPOTClassifier(generations=5, population_size=24, offspring_size=12, verbosity=2, early_stop=12,\n",
    "                     config_dict={'sklearn.ensemble.RandomForestClassifier': params}, cv=5, scoring='accuracy')\n",
    "\n",
    "clf.fit(train_x, train_y)"
   ]
  },
  {
   "cell_type": "code",
   "execution_count": null,
   "metadata": {},
   "outputs": [],
   "source": [
    "clf.score(test_x, test_y)"
   ]
  },
  {
   "cell_type": "markdown",
   "metadata": {},
   "source": [
    "Using Optuna"
   ]
  },
  {
   "cell_type": "code",
   "execution_count": 16,
   "metadata": {},
   "outputs": [
    {
     "name": "stderr",
     "output_type": "stream",
     "text": [
      "c:\\Users\\anubh\\anaconda3\\envs\\tf_gpu\\lib\\site-packages\\tqdm\\auto.py:22: TqdmWarning: IProgress not found. Please update jupyter and ipywidgets. See https://ipywidgets.readthedocs.io/en/stable/user_install.html\n",
      "  from .autonotebook import tqdm as notebook_tqdm\n"
     ]
    }
   ],
   "source": [
    "import optuna as op"
   ]
  },
  {
   "cell_type": "code",
   "execution_count": 20,
   "metadata": {},
   "outputs": [],
   "source": [
    "def objective(trial):\n",
    "    n = trial.suggest_int('n_estimators', 50, 500, step=50)\n",
    "    algo = trial.suggest_categorical('criterion', ['gini', 'entropy'])\n",
    "    max_f = trial.suggest_categorical('max_features', ['auto', 'sqrt', 'log2'])\n",
    "    max_d = trial.suggest_int('max_depth', 10, 510, step=30)\n",
    "    msp = trial.suggest_int('min_samples_split', 2, 22, step=2)\n",
    "    m = RandomForestClassifier(n_estimators=n, criterion=algo, max_features=max_f, max_depth=max_d, min_samples_split=msp)\n",
    "    return cross_val_score(m, x, y, cv=5).mean()"
   ]
  },
  {
   "cell_type": "code",
   "execution_count": 21,
   "metadata": {},
   "outputs": [
    {
     "name": "stderr",
     "output_type": "stream",
     "text": [
      "\u001b[32m[I 2022-10-13 17:15:47,637]\u001b[0m A new study created in memory with name: no-name-359c49d3-e4fd-4650-9eb0-a4e72589c24f\u001b[0m\n",
      "c:\\Users\\anubh\\anaconda3\\envs\\tf_gpu\\lib\\site-packages\\optuna\\distributions.py:683: UserWarning: The distribution is specified by [10, 510] and step=30, but the range is not divisible by `step`. It will be replaced by [10, 490].\n",
      "  warnings.warn(\n",
      "\u001b[32m[I 2022-10-13 17:15:53,029]\u001b[0m Trial 0 finished with value: 0.8648 and parameters: {'n_estimators': 100, 'criterion': 'entropy', 'max_features': 'sqrt', 'max_depth': 130, 'min_samples_split': 16}. Best is trial 0 with value: 0.8648.\u001b[0m\n",
      "c:\\Users\\anubh\\anaconda3\\envs\\tf_gpu\\lib\\site-packages\\optuna\\distributions.py:683: UserWarning: The distribution is specified by [10, 510] and step=30, but the range is not divisible by `step`. It will be replaced by [10, 490].\n",
      "  warnings.warn(\n",
      "\u001b[32m[I 2022-10-13 17:16:10,036]\u001b[0m Trial 1 finished with value: 0.8632 and parameters: {'n_estimators': 350, 'criterion': 'entropy', 'max_features': 'sqrt', 'max_depth': 280, 'min_samples_split': 18}. Best is trial 1 with value: 0.8632.\u001b[0m\n",
      "c:\\Users\\anubh\\anaconda3\\envs\\tf_gpu\\lib\\site-packages\\optuna\\distributions.py:683: UserWarning: The distribution is specified by [10, 510] and step=30, but the range is not divisible by `step`. It will be replaced by [10, 490].\n",
      "  warnings.warn(\n",
      "c:\\Users\\anubh\\anaconda3\\envs\\tf_gpu\\lib\\site-packages\\sklearn\\ensemble\\_forest.py:427: FutureWarning: `max_features='auto'` has been deprecated in 1.1 and will be removed in 1.3. To keep the past behaviour, explicitly set `max_features='sqrt'` or remove this parameter as it is also the default value for RandomForestClassifiers and ExtraTreesClassifiers.\n",
      "  warn(\n",
      "c:\\Users\\anubh\\anaconda3\\envs\\tf_gpu\\lib\\site-packages\\sklearn\\ensemble\\_forest.py:427: FutureWarning: `max_features='auto'` has been deprecated in 1.1 and will be removed in 1.3. To keep the past behaviour, explicitly set `max_features='sqrt'` or remove this parameter as it is also the default value for RandomForestClassifiers and ExtraTreesClassifiers.\n",
      "  warn(\n",
      "c:\\Users\\anubh\\anaconda3\\envs\\tf_gpu\\lib\\site-packages\\sklearn\\ensemble\\_forest.py:427: FutureWarning: `max_features='auto'` has been deprecated in 1.1 and will be removed in 1.3. To keep the past behaviour, explicitly set `max_features='sqrt'` or remove this parameter as it is also the default value for RandomForestClassifiers and ExtraTreesClassifiers.\n",
      "  warn(\n",
      "c:\\Users\\anubh\\anaconda3\\envs\\tf_gpu\\lib\\site-packages\\sklearn\\ensemble\\_forest.py:427: FutureWarning: `max_features='auto'` has been deprecated in 1.1 and will be removed in 1.3. To keep the past behaviour, explicitly set `max_features='sqrt'` or remove this parameter as it is also the default value for RandomForestClassifiers and ExtraTreesClassifiers.\n",
      "  warn(\n",
      "c:\\Users\\anubh\\anaconda3\\envs\\tf_gpu\\lib\\site-packages\\sklearn\\ensemble\\_forest.py:427: FutureWarning: `max_features='auto'` has been deprecated in 1.1 and will be removed in 1.3. To keep the past behaviour, explicitly set `max_features='sqrt'` or remove this parameter as it is also the default value for RandomForestClassifiers and ExtraTreesClassifiers.\n",
      "  warn(\n",
      "\u001b[32m[I 2022-10-13 17:16:11,561]\u001b[0m Trial 2 finished with value: 0.8583999999999999 and parameters: {'n_estimators': 50, 'criterion': 'gini', 'max_features': 'auto', 'max_depth': 10, 'min_samples_split': 16}. Best is trial 2 with value: 0.8583999999999999.\u001b[0m\n",
      "c:\\Users\\anubh\\anaconda3\\envs\\tf_gpu\\lib\\site-packages\\optuna\\distributions.py:683: UserWarning: The distribution is specified by [10, 510] and step=30, but the range is not divisible by `step`. It will be replaced by [10, 490].\n",
      "  warnings.warn(\n",
      "c:\\Users\\anubh\\anaconda3\\envs\\tf_gpu\\lib\\site-packages\\sklearn\\ensemble\\_forest.py:427: FutureWarning: `max_features='auto'` has been deprecated in 1.1 and will be removed in 1.3. To keep the past behaviour, explicitly set `max_features='sqrt'` or remove this parameter as it is also the default value for RandomForestClassifiers and ExtraTreesClassifiers.\n",
      "  warn(\n",
      "c:\\Users\\anubh\\anaconda3\\envs\\tf_gpu\\lib\\site-packages\\sklearn\\ensemble\\_forest.py:427: FutureWarning: `max_features='auto'` has been deprecated in 1.1 and will be removed in 1.3. To keep the past behaviour, explicitly set `max_features='sqrt'` or remove this parameter as it is also the default value for RandomForestClassifiers and ExtraTreesClassifiers.\n",
      "  warn(\n",
      "c:\\Users\\anubh\\anaconda3\\envs\\tf_gpu\\lib\\site-packages\\sklearn\\ensemble\\_forest.py:427: FutureWarning: `max_features='auto'` has been deprecated in 1.1 and will be removed in 1.3. To keep the past behaviour, explicitly set `max_features='sqrt'` or remove this parameter as it is also the default value for RandomForestClassifiers and ExtraTreesClassifiers.\n",
      "  warn(\n",
      "c:\\Users\\anubh\\anaconda3\\envs\\tf_gpu\\lib\\site-packages\\sklearn\\ensemble\\_forest.py:427: FutureWarning: `max_features='auto'` has been deprecated in 1.1 and will be removed in 1.3. To keep the past behaviour, explicitly set `max_features='sqrt'` or remove this parameter as it is also the default value for RandomForestClassifiers and ExtraTreesClassifiers.\n",
      "  warn(\n",
      "c:\\Users\\anubh\\anaconda3\\envs\\tf_gpu\\lib\\site-packages\\sklearn\\ensemble\\_forest.py:427: FutureWarning: `max_features='auto'` has been deprecated in 1.1 and will be removed in 1.3. To keep the past behaviour, explicitly set `max_features='sqrt'` or remove this parameter as it is also the default value for RandomForestClassifiers and ExtraTreesClassifiers.\n",
      "  warn(\n",
      "\u001b[32m[I 2022-10-13 17:16:28,775]\u001b[0m Trial 3 finished with value: 0.8648 and parameters: {'n_estimators': 450, 'criterion': 'gini', 'max_features': 'auto', 'max_depth': 280, 'min_samples_split': 10}. Best is trial 2 with value: 0.8583999999999999.\u001b[0m\n",
      "c:\\Users\\anubh\\anaconda3\\envs\\tf_gpu\\lib\\site-packages\\optuna\\distributions.py:683: UserWarning: The distribution is specified by [10, 510] and step=30, but the range is not divisible by `step`. It will be replaced by [10, 490].\n",
      "  warnings.warn(\n",
      "c:\\Users\\anubh\\anaconda3\\envs\\tf_gpu\\lib\\site-packages\\sklearn\\ensemble\\_forest.py:427: FutureWarning: `max_features='auto'` has been deprecated in 1.1 and will be removed in 1.3. To keep the past behaviour, explicitly set `max_features='sqrt'` or remove this parameter as it is also the default value for RandomForestClassifiers and ExtraTreesClassifiers.\n",
      "  warn(\n",
      "c:\\Users\\anubh\\anaconda3\\envs\\tf_gpu\\lib\\site-packages\\sklearn\\ensemble\\_forest.py:427: FutureWarning: `max_features='auto'` has been deprecated in 1.1 and will be removed in 1.3. To keep the past behaviour, explicitly set `max_features='sqrt'` or remove this parameter as it is also the default value for RandomForestClassifiers and ExtraTreesClassifiers.\n",
      "  warn(\n",
      "c:\\Users\\anubh\\anaconda3\\envs\\tf_gpu\\lib\\site-packages\\sklearn\\ensemble\\_forest.py:427: FutureWarning: `max_features='auto'` has been deprecated in 1.1 and will be removed in 1.3. To keep the past behaviour, explicitly set `max_features='sqrt'` or remove this parameter as it is also the default value for RandomForestClassifiers and ExtraTreesClassifiers.\n",
      "  warn(\n",
      "c:\\Users\\anubh\\anaconda3\\envs\\tf_gpu\\lib\\site-packages\\sklearn\\ensemble\\_forest.py:427: FutureWarning: `max_features='auto'` has been deprecated in 1.1 and will be removed in 1.3. To keep the past behaviour, explicitly set `max_features='sqrt'` or remove this parameter as it is also the default value for RandomForestClassifiers and ExtraTreesClassifiers.\n",
      "  warn(\n",
      "c:\\Users\\anubh\\anaconda3\\envs\\tf_gpu\\lib\\site-packages\\sklearn\\ensemble\\_forest.py:427: FutureWarning: `max_features='auto'` has been deprecated in 1.1 and will be removed in 1.3. To keep the past behaviour, explicitly set `max_features='sqrt'` or remove this parameter as it is also the default value for RandomForestClassifiers and ExtraTreesClassifiers.\n",
      "  warn(\n",
      "\u001b[32m[I 2022-10-13 17:16:31,361]\u001b[0m Trial 4 finished with value: 0.8642 and parameters: {'n_estimators': 50, 'criterion': 'entropy', 'max_features': 'auto', 'max_depth': 280, 'min_samples_split': 10}. Best is trial 2 with value: 0.8583999999999999.\u001b[0m\n",
      "c:\\Users\\anubh\\anaconda3\\envs\\tf_gpu\\lib\\site-packages\\optuna\\distributions.py:683: UserWarning: The distribution is specified by [10, 510] and step=30, but the range is not divisible by `step`. It will be replaced by [10, 490].\n",
      "  warnings.warn(\n",
      "\u001b[32m[I 2022-10-13 17:16:41,137]\u001b[0m Trial 5 finished with value: 0.8634000000000001 and parameters: {'n_estimators': 200, 'criterion': 'entropy', 'max_features': 'log2', 'max_depth': 250, 'min_samples_split': 20}. Best is trial 2 with value: 0.8583999999999999.\u001b[0m\n",
      "c:\\Users\\anubh\\anaconda3\\envs\\tf_gpu\\lib\\site-packages\\optuna\\distributions.py:683: UserWarning: The distribution is specified by [10, 510] and step=30, but the range is not divisible by `step`. It will be replaced by [10, 490].\n",
      "  warnings.warn(\n",
      "\u001b[32m[I 2022-10-13 17:16:43,162]\u001b[0m Trial 6 finished with value: 0.8642000000000001 and parameters: {'n_estimators': 50, 'criterion': 'gini', 'max_features': 'sqrt', 'max_depth': 370, 'min_samples_split': 6}. Best is trial 2 with value: 0.8583999999999999.\u001b[0m\n",
      "c:\\Users\\anubh\\anaconda3\\envs\\tf_gpu\\lib\\site-packages\\optuna\\distributions.py:683: UserWarning: The distribution is specified by [10, 510] and step=30, but the range is not divisible by `step`. It will be replaced by [10, 490].\n",
      "  warnings.warn(\n",
      "c:\\Users\\anubh\\anaconda3\\envs\\tf_gpu\\lib\\site-packages\\sklearn\\ensemble\\_forest.py:427: FutureWarning: `max_features='auto'` has been deprecated in 1.1 and will be removed in 1.3. To keep the past behaviour, explicitly set `max_features='sqrt'` or remove this parameter as it is also the default value for RandomForestClassifiers and ExtraTreesClassifiers.\n",
      "  warn(\n",
      "c:\\Users\\anubh\\anaconda3\\envs\\tf_gpu\\lib\\site-packages\\sklearn\\ensemble\\_forest.py:427: FutureWarning: `max_features='auto'` has been deprecated in 1.1 and will be removed in 1.3. To keep the past behaviour, explicitly set `max_features='sqrt'` or remove this parameter as it is also the default value for RandomForestClassifiers and ExtraTreesClassifiers.\n",
      "  warn(\n",
      "c:\\Users\\anubh\\anaconda3\\envs\\tf_gpu\\lib\\site-packages\\sklearn\\ensemble\\_forest.py:427: FutureWarning: `max_features='auto'` has been deprecated in 1.1 and will be removed in 1.3. To keep the past behaviour, explicitly set `max_features='sqrt'` or remove this parameter as it is also the default value for RandomForestClassifiers and ExtraTreesClassifiers.\n",
      "  warn(\n",
      "c:\\Users\\anubh\\anaconda3\\envs\\tf_gpu\\lib\\site-packages\\sklearn\\ensemble\\_forest.py:427: FutureWarning: `max_features='auto'` has been deprecated in 1.1 and will be removed in 1.3. To keep the past behaviour, explicitly set `max_features='sqrt'` or remove this parameter as it is also the default value for RandomForestClassifiers and ExtraTreesClassifiers.\n",
      "  warn(\n",
      "c:\\Users\\anubh\\anaconda3\\envs\\tf_gpu\\lib\\site-packages\\sklearn\\ensemble\\_forest.py:427: FutureWarning: `max_features='auto'` has been deprecated in 1.1 and will be removed in 1.3. To keep the past behaviour, explicitly set `max_features='sqrt'` or remove this parameter as it is also the default value for RandomForestClassifiers and ExtraTreesClassifiers.\n",
      "  warn(\n",
      "\u001b[32m[I 2022-10-13 17:16:59,786]\u001b[0m Trial 7 finished with value: 0.865 and parameters: {'n_estimators': 450, 'criterion': 'gini', 'max_features': 'auto', 'max_depth': 40, 'min_samples_split': 22}. Best is trial 2 with value: 0.8583999999999999.\u001b[0m\n",
      "c:\\Users\\anubh\\anaconda3\\envs\\tf_gpu\\lib\\site-packages\\optuna\\distributions.py:683: UserWarning: The distribution is specified by [10, 510] and step=30, but the range is not divisible by `step`. It will be replaced by [10, 490].\n",
      "  warnings.warn(\n",
      "\u001b[32m[I 2022-10-13 17:17:22,472]\u001b[0m Trial 8 finished with value: 0.8662000000000001 and parameters: {'n_estimators': 450, 'criterion': 'entropy', 'max_features': 'sqrt', 'max_depth': 70, 'min_samples_split': 10}. Best is trial 2 with value: 0.8583999999999999.\u001b[0m\n",
      "c:\\Users\\anubh\\anaconda3\\envs\\tf_gpu\\lib\\site-packages\\optuna\\distributions.py:683: UserWarning: The distribution is specified by [10, 510] and step=30, but the range is not divisible by `step`. It will be replaced by [10, 490].\n",
      "  warnings.warn(\n",
      "\u001b[32m[I 2022-10-13 17:17:30,735]\u001b[0m Trial 9 finished with value: 0.8646 and parameters: {'n_estimators': 200, 'criterion': 'gini', 'max_features': 'sqrt', 'max_depth': 40, 'min_samples_split': 4}. Best is trial 2 with value: 0.8583999999999999.\u001b[0m\n"
     ]
    }
   ],
   "source": [
    "opt = op.create_study()\n",
    "opt.optimize(objective, n_trials=10)"
   ]
  },
  {
   "cell_type": "code",
   "execution_count": 22,
   "metadata": {},
   "outputs": [
    {
     "data": {
      "text/plain": [
       "({'n_estimators': 50,\n",
       "  'criterion': 'gini',\n",
       "  'max_features': 'auto',\n",
       "  'max_depth': 10,\n",
       "  'min_samples_split': 16},\n",
       " 0.8583999999999999)"
      ]
     },
     "execution_count": 22,
     "metadata": {},
     "output_type": "execute_result"
    }
   ],
   "source": [
    "opt.best_params, opt.best_value"
   ]
  },
  {
   "cell_type": "code",
   "execution_count": null,
   "metadata": {},
   "outputs": [],
   "source": []
  }
 ],
 "metadata": {
  "kernelspec": {
   "display_name": "Python 3.9.12 ('tf_gpu')",
   "language": "python",
   "name": "python3"
  },
  "language_info": {
   "codemirror_mode": {
    "name": "ipython",
    "version": 3
   },
   "file_extension": ".py",
   "mimetype": "text/x-python",
   "name": "python",
   "nbconvert_exporter": "python",
   "pygments_lexer": "ipython3",
   "version": "3.9.12"
  },
  "orig_nbformat": 4,
  "vscode": {
   "interpreter": {
    "hash": "010a0df9f9c91e0f1bb39d4ad2e7bffb45d037e53802c335447db26ec275110e"
   }
  }
 },
 "nbformat": 4,
 "nbformat_minor": 2
}
